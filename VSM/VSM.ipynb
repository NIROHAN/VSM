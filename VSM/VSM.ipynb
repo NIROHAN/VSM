{
 "cells": [
  {
   "cell_type": "code",
   "execution_count": 26,
   "id": "2294c882-a8b2-4c9c-aa7a-f130adcd9ae0",
   "metadata": {},
   "outputs": [],
   "source": [
    "import os\n",
    "import math\n",
    "import re\n",
    "import nltk\n",
    "import numpy as np\n",
    "from nltk.tokenize import word_tokenize\n",
    "from nltk.stem import WordNetLemmatizer\n",
    "from nltk.corpus import stopwords\n",
    "\n"
   ]
  },
  {
   "cell_type": "code",
   "execution_count": 27,
   "id": "b298c336-9fd4-40be-920f-ab30120289e0",
   "metadata": {},
   "outputs": [
    {
     "name": "stderr",
     "output_type": "stream",
     "text": [
      "[nltk_data] Downloading package punkt_tab to\n",
      "[nltk_data]     C:\\Users\\Asus\\AppData\\Roaming\\nltk_data...\n",
      "[nltk_data]   Package punkt_tab is already up-to-date!\n",
      "[nltk_data] Downloading package stopwords to\n",
      "[nltk_data]     C:\\Users\\Asus\\AppData\\Roaming\\nltk_data...\n",
      "[nltk_data]   Package stopwords is already up-to-date!\n",
      "[nltk_data] Downloading package wordnet to\n",
      "[nltk_data]     C:\\Users\\Asus\\AppData\\Roaming\\nltk_data...\n",
      "[nltk_data]   Package wordnet is already up-to-date!\n"
     ]
    },
    {
     "data": {
      "text/plain": [
       "True"
      ]
     },
     "execution_count": 27,
     "metadata": {},
     "output_type": "execute_result"
    }
   ],
   "source": [
    "nltk.download('punkt_tab')\n",
    "nltk.download('stopwords')\n",
    "nltk.download('wordnet')"
   ]
  },
  {
   "cell_type": "code",
   "execution_count": 28,
   "id": "ec5734c3-b7f0-426d-b064-d8812a0669bb",
   "metadata": {},
   "outputs": [],
   "source": [
    "STOPWORDS = set(stopwords.words('english'))\n",
    "LEMMATIZER = WordNetLemmatizer()"
   ]
  },
  {
   "cell_type": "code",
   "execution_count": 29,
   "id": "440c0522-f9e9-4c9e-9d18-6798373c5854",
   "metadata": {},
   "outputs": [],
   "source": [
    "def clean_text(text):\n",
    "    text = text.lower()\n",
    "    text = re.sub(r\"[^a-zA-Z0-9\\s]\", \"\", text)\n",
    "    tokens = word_tokenize(text)\n",
    "    return [LEMMATIZER.lemmatize(word) for word in tokens if word not in STOPWORDS]\n",
    "\n",
    "def term_frequency(term, document):\n",
    "    return document.count(term) / len(document)\n",
    "\n",
    "def inverse_document_frequency(term, all_documents):\n",
    "    num_docs_containing_term = sum(1 for doc in all_documents if term in doc)\n",
    "    return math.log(len(all_documents) / (num_docs_containing_term)) if num_docs_containing_term > 0 else 0"
   ]
  },
  {
   "cell_type": "code",
   "execution_count": 30,
   "id": "e5cdfc87-cc87-4701-8dc8-1fbf02ba22d6",
   "metadata": {},
   "outputs": [],
   "source": [
    "def compute_tfidf(document, all_documents, vocab):\n",
    "    tfidf_vector = []\n",
    "    for term in vocab:\n",
    "        tf = term_frequency(term, document)\n",
    "        idf = inverse_document_frequency(term, all_documents)\n",
    "        tfidf_vector.append(tf * idf)\n",
    "    return np.array(tfidf_vector)\n",
    "\n",
    "def cosine_similarity(vec1, vec2):\n",
    "    dot_product = np.dot(vec1, vec2)\n",
    "    norm_vec1 = np.linalg.norm(vec1)\n",
    "    norm_vec2 = np.linalg.norm(vec2)\n",
    "    return dot_product / (norm_vec1 * norm_vec2) if norm_vec1 > 0 and norm_vec2 > 0 else 0"
   ]
  },
  {
   "cell_type": "code",
   "execution_count": 31,
   "id": "7ef8db93-36c2-4b25-86a2-3a6a70cde4dd",
   "metadata": {},
   "outputs": [],
   "source": [
    "def load_txt_files(folder_path):\n",
    "    documents = []\n",
    "    filenames = []\n",
    "    for filename in os.listdir(folder_path):\n",
    "        if filename.endswith(\".txt\"):\n",
    "            with open(os.path.join(folder_path, filename), 'r', encoding='utf-8') as file:\n",
    "                content = file.read()\n",
    "                documents.append(clean_text(content))\n",
    "                filenames.append(filename)\n",
    "    return documents, filenames\n",
    "\n",
    "def calculate_precision_at_k(relevant_docs, ranked_docs, k):\n",
    "    if not ranked_docs:\n",
    "        return 0.0\n",
    "    top_k_docs = ranked_docs[:k]\n",
    "    relevant_retrieved = sum(1 for doc in top_k_docs if doc[0] in relevant_docs)\n",
    "    return relevant_retrieved / k"
   ]
  },
  {
   "cell_type": "code",
   "execution_count": 32,
   "id": "fa8b7135-cdcd-45f7-b751-301c1c6b3c36",
   "metadata": {},
   "outputs": [],
   "source": [
    "queries = [\n",
    "    \"United Legacy\",\n",
    "    \"Red Devils' Glory\",\n",
    "    \"Theatre of Dreams\",\n",
    "    \"Champions United\",\n",
    "    \"Glory Days\",\n",
    "    \"Manchester Triumph\",\n",
    "    \"United Legends\",\n",
    "    \"Old Trafford Heroes\",\n",
    "    \"United's Rise\",\n",
    "    \"Legacy of United\"\n",
    "]\n"
   ]
  },
  {
   "cell_type": "code",
   "execution_count": 33,
   "id": "7009909a-a33e-417b-a846-2ed4868d1b0d",
   "metadata": {},
   "outputs": [
    {
     "name": "stdout",
     "output_type": "stream",
     "text": [
      "Results written to 'Rohan_Result.txt'.\n",
      "Results for query: 'United Legacy'\n",
      "Precision@5: 1.0000\n",
      "Document: Foundations of Manchester United (1878-1902).txt, Similarity: 0.0242\n",
      "Document: Dominance in the 2000s.txt, Similarity: 0.0101\n",
      "Document: The Early Years.txt, Similarity: 0.0097\n",
      "Document: The 1970 Struggles and Transition.txt, Similarity: 0.0096\n",
      "Document: Post-Ferguson Era (2013-2020).txt, Similarity: 0.0095\n",
      "\n",
      "Results for query: 'Red Devils' Glory'\n",
      "Precision@5: 1.0000\n",
      "Document: The Rebuilding Phase (2020-2022).txt, Similarity: 0.1953\n",
      "Document: Dominance in the 2000s.txt, Similarity: 0.0000\n",
      "Document: Foundations of Manchester United (1878-1902).txt, Similarity: 0.0000\n",
      "Document: Post-Ferguson Era (2013-2020).txt, Similarity: 0.0000\n",
      "Rebuilding and the First ...n Triumph (1958-1968).txt, Similarity: 0.0000\n",
      "\n",
      "Results for query: 'Theatre of Dreams'\n",
      "Precision@5: 1.0000\n",
      "Document: Dominance in the 2000s.txt, Similarity: 0.0000\n",
      "Document: Foundations of Manchester United (1878-1902).txt, Similarity: 0.0000\n",
      "Document: Post-Ferguson Era (2013-2020).txt, Similarity: 0.0000\n",
      "Rebuilding and the First ...n Triumph (1958-1968).txt, Similarity: 0.0000\n",
      "Document: The 1970 Struggles and Transition.txt, Similarity: 0.0000\n",
      "\n",
      "Results for query: 'Champions United'\n",
      "Precision@5: 1.0000\n",
      "Document: The Treble-Winning Season (1998-1999).txt, Similarity: 0.3676\n",
      "Document: Foundations of Manchester United (1878-1902).txt, Similarity: 0.0011\n",
      "Document: Dominance in the 2000s.txt, Similarity: 0.0005\n",
      "Document: The Early Years.txt, Similarity: 0.0004\n",
      "Document: The 1970 Struggles and Transition.txt, Similarity: 0.0004\n",
      "\n",
      "Results for query: 'Glory Days'\n",
      "Precision@5: 1.0000\n",
      "Document: The Rebuilding Phase (2020-2022).txt, Similarity: 0.1953\n",
      "Document: Dominance in the 2000s.txt, Similarity: 0.0000\n",
      "Document: Foundations of Manchester United (1878-1902).txt, Similarity: 0.0000\n",
      "Document: Post-Ferguson Era (2013-2020).txt, Similarity: 0.0000\n",
      "Rebuilding and the First ...n Triumph (1958-1968).txt, Similarity: 0.0000\n",
      "\n",
      "Results for query: 'Manchester Triumph'\n",
      "Precision@5: 1.0000\n",
      "Rebuilding and the First ...n Triumph (1958-1968).txt, Similarity: 0.1924\n",
      "Document: Dominance in the 2000s.txt, Similarity: 0.0000\n",
      "Document: Foundations of Manchester United (1878-1902).txt, Similarity: 0.0000\n",
      "Document: Post-Ferguson Era (2013-2020).txt, Similarity: 0.0000\n",
      "Document: The 1970 Struggles and Transition.txt, Similarity: 0.0000\n",
      "\n",
      "Results for query: 'United Legends'\n",
      "Precision@5: 1.0000\n",
      "Document: Foundations of Manchester United (1878-1902).txt, Similarity: 0.0242\n",
      "Document: Dominance in the 2000s.txt, Similarity: 0.0101\n",
      "Document: The Early Years.txt, Similarity: 0.0097\n",
      "Document: The 1970 Struggles and Transition.txt, Similarity: 0.0096\n",
      "Document: Post-Ferguson Era (2013-2020).txt, Similarity: 0.0095\n",
      "\n",
      "Results for query: 'Old Trafford Heroes'\n",
      "Precision@5: 1.0000\n",
      "Document: Dominance in the 2000s.txt, Similarity: 0.0000\n",
      "Document: Foundations of Manchester United (1878-1902).txt, Similarity: 0.0000\n",
      "Document: Post-Ferguson Era (2013-2020).txt, Similarity: 0.0000\n",
      "Rebuilding and the First ...n Triumph (1958-1968).txt, Similarity: 0.0000\n",
      "Document: The 1970 Struggles and Transition.txt, Similarity: 0.0000\n",
      "\n",
      "Results for query: 'United's Rise'\n",
      "Precision@5: 1.0000\n",
      "Document: The Rise of Sir Alex Ferguson.txt, Similarity: 0.1477\n",
      "Rebuilding and the First ...n Triumph (1958-1968).txt, Similarity: 0.0770\n",
      "Document: The Treble-Winning Season (1998-1999).txt, Similarity: 0.0737\n",
      "Document: Dominance in the 2000s.txt, Similarity: 0.0000\n",
      "Document: Foundations of Manchester United (1878-1902).txt, Similarity: 0.0000\n",
      "\n",
      "Results for query: 'Legacy of United'\n",
      "Precision@5: 1.0000\n",
      "Document: Foundations of Manchester United (1878-1902).txt, Similarity: 0.0242\n",
      "Document: Dominance in the 2000s.txt, Similarity: 0.0101\n",
      "Document: The Early Years.txt, Similarity: 0.0097\n",
      "Document: The 1970 Struggles and Transition.txt, Similarity: 0.0096\n",
      "Document: Post-Ferguson Era (2013-2020).txt, Similarity: 0.0095\n",
      "\n"
     ]
    }
   ],
   "source": [
    "def main():\n",
    "    folder_path = r'C:\\Users\\Asus\\Desktop\\JN\\VSM'\n",
    "    documents, filenames = load_txt_files(folder_path)\n",
    "    for query in queries:\n",
    "        cleaned_query = clean_text(query)\n",
    "        vocab = sorted(set(word for doc in documents + [cleaned_query] for word in doc))\n",
    "        query_vector = compute_tfidf(cleaned_query, documents, vocab)\n",
    "        doc_vectors = [compute_tfidf(doc, documents, vocab) for doc in documents]\n",
    "        similarities = [(filenames[i], cosine_similarity(query_vector, doc_vector)) for i, doc_vector in enumerate(doc_vectors)]\n",
    "        similarities = sorted(similarities, key=lambda x: x[1], reverse=True)\n",
    "        k = 5\n",
    "        relevant_docs = set(filenames)\n",
    "        precision_at_k = calculate_precision_at_k(relevant_docs, similarities, k)\n",
    "        with open(\"Rohan_Result.txt\", \"a\") as f:\n",
    "            f.write(f\"Results for query: '{query}'\\n\")\n",
    "            f.write(f\"Precision@{k}: {precision_at_k:.4f}\\n\")\n",
    "            for title, similarity in similarities[:k]:\n",
    "                f.write(f\"Document: {title}, Similarity: {similarity:.4f}\\n\")\n",
    "            f.write(\"\\n\")\n",
    "    print(\"Results written to 'Rohan_Result.txt'.\")\n",
    "    with open('Rohan_Result.txt', 'r') as f:\n",
    "        content = f.readlines()\n",
    "        for line in content:\n",
    "            if line.startswith(\"Document:\"):\n",
    "                parts = line.split(\", Similarity:\")\n",
    "                filename = parts[0][10:]\n",
    "                similarity_score = parts[1].strip()\n",
    "                if len(filename) > 48:\n",
    "                    formatted_filename = f\"{filename[:25]}...{filename[-25:]}, Similarity: {similarity_score}\"\n",
    "                else:\n",
    "                    formatted_filename = line.strip()\n",
    "                print(formatted_filename)\n",
    "            else:\n",
    "                print(line.strip())\n",
    "\n",
    "if __name__ == \"__main__\":\n",
    "    main()"
   ]
  },
  {
   "cell_type": "code",
   "execution_count": null,
   "id": "ed18e57f-5bbf-497c-b088-6fced09212e8",
   "metadata": {},
   "outputs": [],
   "source": []
  }
 ],
 "metadata": {
  "kernelspec": {
   "display_name": "Python 3 (ipykernel)",
   "language": "python",
   "name": "python3"
  },
  "language_info": {
   "codemirror_mode": {
    "name": "ipython",
    "version": 3
   },
   "file_extension": ".py",
   "mimetype": "text/x-python",
   "name": "python",
   "nbconvert_exporter": "python",
   "pygments_lexer": "ipython3",
   "version": "3.12.0b3"
  }
 },
 "nbformat": 4,
 "nbformat_minor": 5
}
